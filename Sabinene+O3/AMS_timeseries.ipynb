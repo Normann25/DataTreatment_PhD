{
 "cells": [
  {
   "cell_type": "code",
   "execution_count": null,
   "id": "f55b10a8",
   "metadata": {},
   "outputs": [],
   "source": [
    "import sys\n",
    "sys.path.append('../')\n",
    "from read_data_functions import *\n",
    "from plot_functions import *\n",
    "from calculations import *\n",
    "plt.style.use('../Style.mplstyle')\n",
    "import warnings\n",
    "warnings.filterwarnings('ignore')\n",
    "pd.options.mode.chained_assignment = None  # suppress warnings"
   ]
  },
  {
   "cell_type": "code",
   "execution_count": null,
   "id": "5b4b3792",
   "metadata": {},
   "outputs": [],
   "source": [
    "path = '../../../Data/2025/08 - August/'\n",
    "AMS_paths = ['250822_Sabinene_100ppb_0C/', '250825_Sabinene_100ppb_10C/', '250826_Sabinene_100ppb_neg10C/']\n",
    "\n",
    "SMPS = import_SMPS(f'{path}250822_Sabinene_100ppb_0C/SMPS/Mass/', '', 0)\n",
    "SMPS[SMPS.keys()[38]] = SMPS[SMPS.keys()[38]]*1.5\n",
    "\n",
    "AMS = {}\n",
    "for AMS_path in AMS_paths:\n",
    "    df = import_txt(f'{path}{AMS_path}AMS/', '', 't_series', '%d-%m-%Y %H:%M:%S', 0)\n",
    "    name = AMS_path.split('_')[0]\n",
    "    AMS[name] = df\n",
    "\n",
    "print(AMS['250822'].keys())"
   ]
  }
 ],
 "metadata": {
  "language_info": {
   "name": "python"
  }
 },
 "nbformat": 4,
 "nbformat_minor": 5
}
