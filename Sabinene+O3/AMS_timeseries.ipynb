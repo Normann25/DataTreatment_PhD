{
 "cells": [
  {
   "cell_type": "code",
   "execution_count": 1,
   "id": "f55b10a8",
   "metadata": {},
   "outputs": [],
   "source": [
    "import sys\n",
    "sys.path.append('../')\n",
    "from read_data_functions import *\n",
    "from plot_functions import *\n",
    "from calculations import *\n",
    "plt.style.use('../Style.mplstyle')\n",
    "import warnings\n",
    "warnings.filterwarnings('ignore')\n",
    "pd.options.mode.chained_assignment = None  # suppress warnings"
   ]
  },
  {
   "cell_type": "code",
   "execution_count": 2,
   "id": "5b4b3792",
   "metadata": {},
   "outputs": [
    {
     "name": "stdout",
     "output_type": "stream",
     "text": [
      "Index(['t_series', 'HROrg_M_all', 'HRNO3_M_all', 'HRSO4_M_all', 'HRNH4_M_all',\n",
      "       'HRChl_M_all', 'Ratio_H_C_all_IA', 'Ratio_O_C_all_IA',\n",
      "       'familyCHN_M_all', 'familyCHO1_M_all', 'familyCHO1N_M_all',\n",
      "       'familyCH_M_all', 'MSSM_all_HROrg43', 'MSSM_all_HROrg44', 'Time'],\n",
      "      dtype='object')\n"
     ]
    }
   ],
   "source": [
    "path = '../../../Data/2025/08 - August/'\n",
    "AMS_paths = ['250822_Sabinene_100ppb_0C/', '250825_Sabinene_100ppb_10C/', '250826_Sabinene_100ppb_neg10C/']\n",
    "\n",
    "AMS = {}\n",
    "for AMS_path in AMS_paths:\n",
    "    df = import_txt(f'{path}{AMS_path}AMS/', '', 't_series', '%d-%m-%Y %H:%M:%S', 0)\n",
    "    name = AMS_path.split('_')[0]\n",
    "    AMS[name] = df\n",
    "\n",
    "print(AMS['250822'].keys())"
   ]
  }
 ],
 "metadata": {
  "kernelspec": {
   "display_name": "Python 3",
   "language": "python",
   "name": "python3"
  },
  "language_info": {
   "codemirror_mode": {
    "name": "ipython",
    "version": 3
   },
   "file_extension": ".py",
   "mimetype": "text/x-python",
   "name": "python",
   "nbconvert_exporter": "python",
   "pygments_lexer": "ipython3",
   "version": "3.9.10"
  }
 },
 "nbformat": 4,
 "nbformat_minor": 5
}
